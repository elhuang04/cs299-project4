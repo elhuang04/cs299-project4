{
 "cells": [
  {
   "cell_type": "code",
   "execution_count": 1,
   "metadata": {},
   "outputs": [],
   "source": [
    "import requests\n",
    "import json\n",
    "import pandas as pd\n",
    "import concurrent.futures\n",
    "import os"
   ]
  },
  {
   "cell_type": "code",
   "execution_count": 32,
   "metadata": {},
   "outputs": [],
   "source": [
    "\n",
    "# Replace 'YOUR_API_KEY' with your actual YouTube Data API key\n",
    "API_KEY = 'API'\n",
    "SEARCH_URL = 'https://www.googleapis.com/youtube/v3/search'\n"
   ]
  },
  {
   "cell_type": "code",
   "execution_count": 33,
   "metadata": {},
   "outputs": [],
   "source": [
    "startmonth = '01'\n",
    "startdate = '01'\n",
    "startyear = '2020'\n",
    "endmonth = '07'\n",
    "enddate = '01'\n",
    "endyear = '2020'"
   ]
  },
  {
   "cell_type": "code",
   "execution_count": 34,
   "metadata": {},
   "outputs": [],
   "source": [
    "# Parameters for retrieving gaming videos\n",
    "params = {\n",
    "    'part': 'snippet',\n",
    "    'type': 'video',               # Focus on videos only\n",
    "    'videoCategoryId': '20',        # Category ID for \"Gaming\"\n",
    "    'maxResults': 50,               # Maximum results per request\n",
    "    'order': 'viewCount',           # Optional: Order by most viewed\n",
    "    'publishedAfter': f'{startyear}-{startmonth}-{startdate}T00:00:00Z',  # Example date\n",
    "    'publishedBefore': f'{endyear}-{endmonth}-{enddate}T00:00:00Z',  # End date\n",
    "    'key': API_KEY\n",
    "}\n"
   ]
  },
  {
   "cell_type": "code",
   "execution_count": 35,
   "metadata": {},
   "outputs": [
    {
     "name": "stdout",
     "output_type": "stream",
     "text": [
      "Total videos retrieved: 0\n"
     ]
    }
   ],
   "source": [
    "\n",
    "all_videos = []\n",
    "next_page_token = None\n",
    "\n",
    "\n",
    "# Loop to handle pagination\n",
    "results = []\n",
    "while True:\n",
    "    if next_page_token:\n",
    "        params['pageToken'] = next_page_token\n",
    "    response = requests.get(SEARCH_URL, params=params)\n",
    "    results.append(response.json())\n",
    "    all_videos.extend(results[-1].get('items', []))\n",
    "    \n",
    "    # Debugging: Check for errors in response\n",
    "    if 'error' in results:\n",
    "        print(\"Error:\", results['error'])\n",
    "        break\n",
    "\n",
    "\n",
    "    # Check if there's a next page\n",
    "    next_page_token = results[-1].get('nextPageToken')\n",
    "    if not next_page_token:\n",
    "        break  # Exit loop if there are no more pages\n",
    "\n",
    "print(f\"Total videos retrieved: {len(all_videos)}\")\n",
    "\n"
   ]
  },
  {
   "cell_type": "code",
   "execution_count": 36,
   "metadata": {},
   "outputs": [],
   "source": [
    "data = []\n",
    "\n",
    "def get_info(item):\n",
    "    videoID = item['id']['videoId']\n",
    "    snippet = item['snippet']\n",
    "    channelID = snippet['channelId']\n",
    "    title = snippet['title']\n",
    "    description = snippet['description']\n",
    "    liveBroadcastContent  = snippet['liveBroadcastContent']\n",
    "    channelTitle = snippet['channelTitle']\n",
    "    publishTime = snippet['publishTime']\n",
    "    info = [videoID, channelID, title, description, liveBroadcastContent, channelTitle, publishTime]\n",
    "    data.append(info)\n",
    "    # return videoID, channelID, title, description, liveBroadcastContent, channelTitle, publishTime"
   ]
  },
  {
   "cell_type": "code",
   "execution_count": 37,
   "metadata": {},
   "outputs": [],
   "source": [
    "# Display video IDs and titles for gaming videos\n",
    "for result in results:\n",
    "   if 'items' in result:\n",
    "      all_info = \"get_info(item)\"\n",
    "      with concurrent.futures.ThreadPoolExecutor() as executor:\n",
    "         [exec(all_info) for item in result['items']]"
   ]
  },
  {
   "cell_type": "code",
   "execution_count": 38,
   "metadata": {},
   "outputs": [
    {
     "name": "stdout",
     "output_type": "stream",
     "text": [
      "[]\n",
      "Empty DataFrame\n",
      "Columns: [videoID, channelID, title, description, liveBroadcastContent, channelTitle, publishTime]\n",
      "Index: []\n"
     ]
    }
   ],
   "source": [
    "print(data)\n",
    "df = pd.DataFrame(data, columns=['videoID', 'channelID', 'title', 'description', 'liveBroadcastContent', 'channelTitle', 'publishTime'])\n",
    "print(df.head())\n",
    "#videoId, channelId, title, description, liveBroadcastContent, channelTitle, publishTime\n",
    "df.to_csv(f'2_testing_{startyear}_{startmonth}_{startdate}.csv', index = 'false')"
   ]
  },
  {
   "cell_type": "code",
   "execution_count": 39,
   "metadata": {},
   "outputs": [
    {
     "name": "stdout",
     "output_type": "stream",
     "text": [
      "0\n"
     ]
    }
   ],
   "source": [
    "print(len(df))"
   ]
  }
 ],
 "metadata": {
  "kernelspec": {
   "display_name": "Python 3",
   "language": "python",
   "name": "python3"
  },
  "language_info": {
   "codemirror_mode": {
    "name": "ipython",
    "version": 3
   },
   "file_extension": ".py",
   "mimetype": "text/x-python",
   "name": "python",
   "nbconvert_exporter": "python",
   "pygments_lexer": "ipython3",
   "version": "3.12.1"
  }
 },
 "nbformat": 4,
 "nbformat_minor": 2
}

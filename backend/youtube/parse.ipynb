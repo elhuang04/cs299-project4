{
 "cells": [
  {
   "cell_type": "code",
   "execution_count": 1,
   "metadata": {},
   "outputs": [],
   "source": [
    "from bs4 import BeautifulSoup as BS\n",
    "import pandas as pd"
   ]
  },
  {
   "cell_type": "code",
   "execution_count": 11,
   "metadata": {},
   "outputs": [],
   "source": [
    "\n",
    "with open('./results/vid_0_trump.html', 'r') as f:\n",
    "    contents = f.read()\n",
    "\n",
    "    soup = BS(contents, \"html.parser\")\n",
    "    # LOGIC TO PARSE\n",
    "    # print(soup.find(\"div\", {\"id\": \"description\"})).text\n",
    "    # username = soup.find(\"span\", {\"class\": \"css-1c7urt-SpanUniqueId evv7pft1\"}).text\n",
    "    # nickname = soup.find(\"span\", {\"class\": \"css-1xccqfx-SpanNickName e17fzhrb1\"}).text\n",
    "    # description = soup.find(\"span\", {\"class\": \"css-j2a19r-SpanText efbd9f0\"}).text\n",
    "    # music = soup.find(\"div\", {\"class\": \"css-pvx3oa-DivMusicText epjbyn3\"}).text"
   ]
  }
 ],
 "metadata": {
  "kernelspec": {
   "display_name": "venv",
   "language": "python",
   "name": "python3"
  },
  "language_info": {
   "codemirror_mode": {
    "name": "ipython",
    "version": 3
   },
   "file_extension": ".py",
   "mimetype": "text/x-python",
   "name": "python",
   "nbconvert_exporter": "python",
   "pygments_lexer": "ipython3",
   "version": "3.11.4"
  }
 },
 "nbformat": 4,
 "nbformat_minor": 2
}
